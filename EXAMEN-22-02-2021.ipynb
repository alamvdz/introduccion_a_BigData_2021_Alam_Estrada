{
 "cells": [
  {
   "cell_type": "code",
   "execution_count": 90,
   "id": "painful-google",
   "metadata": {},
   "outputs": [],
   "source": [
    "import pandas as pd\n",
    "import numpy as np\n",
    "import matplotlib.pyplot as plt\n",
    "%matplotlib inline\n",
    "import seaborn as sns "
   ]
  },
  {
   "cell_type": "code",
   "execution_count": 72,
   "id": "pregnant-patent",
   "metadata": {},
   "outputs": [],
   "source": [
    "df = pd.read_csv(\"data.csv\",encoding='latin')"
   ]
  },
  {
   "cell_type": "code",
   "execution_count": 73,
   "id": "proved-grounds",
   "metadata": {},
   "outputs": [],
   "source": [
    "df = df.head(10).sort_values(by='artists', ascending=True)\n"
   ]
  },
  {
   "cell_type": "code",
   "execution_count": 74,
   "id": "tamil-gnome",
   "metadata": {
    "scrolled": false
   },
   "outputs": [
    {
     "data": {
      "text/html": [
       "<div>\n",
       "<style scoped>\n",
       "    .dataframe tbody tr th:only-of-type {\n",
       "        vertical-align: middle;\n",
       "    }\n",
       "\n",
       "    .dataframe tbody tr th {\n",
       "        vertical-align: top;\n",
       "    }\n",
       "\n",
       "    .dataframe thead th {\n",
       "        text-align: right;\n",
       "    }\n",
       "</style>\n",
       "<table border=\"1\" class=\"dataframe\">\n",
       "  <thead>\n",
       "    <tr style=\"text-align: right;\">\n",
       "      <th></th>\n",
       "      <th>acousticness</th>\n",
       "      <th>artists</th>\n",
       "      <th>danceability</th>\n",
       "      <th>duration_ms</th>\n",
       "      <th>energy</th>\n",
       "      <th>explicit</th>\n",
       "      <th>id</th>\n",
       "      <th>instrumentalness</th>\n",
       "      <th>key</th>\n",
       "      <th>liveness</th>\n",
       "      <th>loudness</th>\n",
       "      <th>mode</th>\n",
       "      <th>name</th>\n",
       "      <th>popularity</th>\n",
       "      <th>release_date</th>\n",
       "      <th>speechiness</th>\n",
       "      <th>tempo</th>\n",
       "      <th>valence</th>\n",
       "      <th>year</th>\n",
       "    </tr>\n",
       "  </thead>\n",
       "  <tbody>\n",
       "    <tr>\n",
       "      <th>1</th>\n",
       "      <td>0.643000</td>\n",
       "      <td>[\"Screamin' Jay Hawkins\"]</td>\n",
       "      <td>0.852</td>\n",
       "      <td>150200</td>\n",
       "      <td>0.5170</td>\n",
       "      <td>0</td>\n",
       "      <td>0hbkKFIJm7Z05H8Zl9w30f</td>\n",
       "      <td>0.026400</td>\n",
       "      <td>5</td>\n",
       "      <td>0.0809</td>\n",
       "      <td>-7.261</td>\n",
       "      <td>0</td>\n",
       "      <td>I Put A Spell On You</td>\n",
       "      <td>7</td>\n",
       "      <td>1920-01-05</td>\n",
       "      <td>0.0534</td>\n",
       "      <td>86.889</td>\n",
       "      <td>0.9500</td>\n",
       "      <td>1920</td>\n",
       "    </tr>\n",
       "    <tr>\n",
       "      <th>8</th>\n",
       "      <td>0.996000</td>\n",
       "      <td>['Francisco Canaro']</td>\n",
       "      <td>0.469</td>\n",
       "      <td>146840</td>\n",
       "      <td>0.2380</td>\n",
       "      <td>0</td>\n",
       "      <td>02i59gYdjlhBmbbWhf8YuK</td>\n",
       "      <td>0.960000</td>\n",
       "      <td>8</td>\n",
       "      <td>0.1490</td>\n",
       "      <td>-18.717</td>\n",
       "      <td>1</td>\n",
       "      <td>La Chacarera - Remasterizado</td>\n",
       "      <td>0</td>\n",
       "      <td>1920-07-08</td>\n",
       "      <td>0.0741</td>\n",
       "      <td>130.060</td>\n",
       "      <td>0.6210</td>\n",
       "      <td>1920</td>\n",
       "    </tr>\n",
       "    <tr>\n",
       "      <th>5</th>\n",
       "      <td>0.996000</td>\n",
       "      <td>['Mamie Smith &amp; Her Jazz Hounds']</td>\n",
       "      <td>0.424</td>\n",
       "      <td>198627</td>\n",
       "      <td>0.2450</td>\n",
       "      <td>0</td>\n",
       "      <td>3HnrHGLE9u2MjHtdobfWl9</td>\n",
       "      <td>0.799000</td>\n",
       "      <td>5</td>\n",
       "      <td>0.2350</td>\n",
       "      <td>-11.470</td>\n",
       "      <td>1</td>\n",
       "      <td>Crazy Blues - 78rpm Version</td>\n",
       "      <td>9</td>\n",
       "      <td>1920</td>\n",
       "      <td>0.0397</td>\n",
       "      <td>103.870</td>\n",
       "      <td>0.4770</td>\n",
       "      <td>1920</td>\n",
       "    </tr>\n",
       "    <tr>\n",
       "      <th>7</th>\n",
       "      <td>0.996000</td>\n",
       "      <td>['Mamie Smith &amp; Her Jazz Hounds']</td>\n",
       "      <td>0.474</td>\n",
       "      <td>186173</td>\n",
       "      <td>0.2390</td>\n",
       "      <td>0</td>\n",
       "      <td>02FzJbHtqElixxCmrpSCUa</td>\n",
       "      <td>0.186000</td>\n",
       "      <td>9</td>\n",
       "      <td>0.1950</td>\n",
       "      <td>-9.712</td>\n",
       "      <td>1</td>\n",
       "      <td>Arkansas Blues</td>\n",
       "      <td>0</td>\n",
       "      <td>1920</td>\n",
       "      <td>0.0289</td>\n",
       "      <td>78.784</td>\n",
       "      <td>0.3660</td>\n",
       "      <td>1920</td>\n",
       "    </tr>\n",
       "    <tr>\n",
       "      <th>0</th>\n",
       "      <td>0.991000</td>\n",
       "      <td>['Mamie Smith']</td>\n",
       "      <td>0.598</td>\n",
       "      <td>168333</td>\n",
       "      <td>0.2240</td>\n",
       "      <td>0</td>\n",
       "      <td>0cS0A1fUEUd1EW3FcF8AEI</td>\n",
       "      <td>0.000522</td>\n",
       "      <td>5</td>\n",
       "      <td>0.3790</td>\n",
       "      <td>-12.628</td>\n",
       "      <td>0</td>\n",
       "      <td>Keep A Song In Your Soul</td>\n",
       "      <td>12</td>\n",
       "      <td>1920</td>\n",
       "      <td>0.0936</td>\n",
       "      <td>149.976</td>\n",
       "      <td>0.6340</td>\n",
       "      <td>1920</td>\n",
       "    </tr>\n",
       "    <tr>\n",
       "      <th>2</th>\n",
       "      <td>0.993000</td>\n",
       "      <td>['Mamie Smith']</td>\n",
       "      <td>0.647</td>\n",
       "      <td>163827</td>\n",
       "      <td>0.1860</td>\n",
       "      <td>0</td>\n",
       "      <td>11m7laMUgmOKqI3oYzuhne</td>\n",
       "      <td>0.000018</td>\n",
       "      <td>0</td>\n",
       "      <td>0.5190</td>\n",
       "      <td>-12.098</td>\n",
       "      <td>1</td>\n",
       "      <td>Golfing Papa</td>\n",
       "      <td>4</td>\n",
       "      <td>1920</td>\n",
       "      <td>0.1740</td>\n",
       "      <td>97.600</td>\n",
       "      <td>0.6890</td>\n",
       "      <td>1920</td>\n",
       "    </tr>\n",
       "    <tr>\n",
       "      <th>6</th>\n",
       "      <td>0.992000</td>\n",
       "      <td>['Mamie Smith']</td>\n",
       "      <td>0.782</td>\n",
       "      <td>195200</td>\n",
       "      <td>0.0573</td>\n",
       "      <td>0</td>\n",
       "      <td>5DlCyqLyX2AOVDTjjkDZ8x</td>\n",
       "      <td>0.000002</td>\n",
       "      <td>5</td>\n",
       "      <td>0.1760</td>\n",
       "      <td>-12.453</td>\n",
       "      <td>1</td>\n",
       "      <td>Don't You Advertise Your Man</td>\n",
       "      <td>5</td>\n",
       "      <td>1920</td>\n",
       "      <td>0.0592</td>\n",
       "      <td>85.652</td>\n",
       "      <td>0.4870</td>\n",
       "      <td>1920</td>\n",
       "    </tr>\n",
       "    <tr>\n",
       "      <th>9</th>\n",
       "      <td>0.006820</td>\n",
       "      <td>['Meetya']</td>\n",
       "      <td>0.571</td>\n",
       "      <td>476304</td>\n",
       "      <td>0.7530</td>\n",
       "      <td>0</td>\n",
       "      <td>06NUxS2XL3efRh0bloxkHm</td>\n",
       "      <td>0.873000</td>\n",
       "      <td>8</td>\n",
       "      <td>0.0920</td>\n",
       "      <td>-6.943</td>\n",
       "      <td>1</td>\n",
       "      <td>Broken Puppet - Original Mix</td>\n",
       "      <td>0</td>\n",
       "      <td>1920-01-01</td>\n",
       "      <td>0.0446</td>\n",
       "      <td>126.993</td>\n",
       "      <td>0.1190</td>\n",
       "      <td>1920</td>\n",
       "    </tr>\n",
       "    <tr>\n",
       "      <th>4</th>\n",
       "      <td>0.295000</td>\n",
       "      <td>['Mixe']</td>\n",
       "      <td>0.704</td>\n",
       "      <td>165224</td>\n",
       "      <td>0.7070</td>\n",
       "      <td>1</td>\n",
       "      <td>2hJjbsLCytGsnAHfdsLejp</td>\n",
       "      <td>0.000246</td>\n",
       "      <td>10</td>\n",
       "      <td>0.4020</td>\n",
       "      <td>-6.036</td>\n",
       "      <td>0</td>\n",
       "      <td>Xuniverxe</td>\n",
       "      <td>2</td>\n",
       "      <td>1920-10-01</td>\n",
       "      <td>0.0768</td>\n",
       "      <td>122.076</td>\n",
       "      <td>0.2990</td>\n",
       "      <td>1920</td>\n",
       "    </tr>\n",
       "    <tr>\n",
       "      <th>3</th>\n",
       "      <td>0.000173</td>\n",
       "      <td>['Oscar Velazquez']</td>\n",
       "      <td>0.730</td>\n",
       "      <td>422087</td>\n",
       "      <td>0.7980</td>\n",
       "      <td>0</td>\n",
       "      <td>19Lc5SfJJ5O1oaxY0fpwfh</td>\n",
       "      <td>0.801000</td>\n",
       "      <td>2</td>\n",
       "      <td>0.1280</td>\n",
       "      <td>-7.311</td>\n",
       "      <td>1</td>\n",
       "      <td>True House Music - Xavier Santos &amp; Carlos Gomi...</td>\n",
       "      <td>17</td>\n",
       "      <td>1920-01-01</td>\n",
       "      <td>0.0425</td>\n",
       "      <td>127.997</td>\n",
       "      <td>0.0422</td>\n",
       "      <td>1920</td>\n",
       "    </tr>\n",
       "  </tbody>\n",
       "</table>\n",
       "</div>"
      ],
      "text/plain": [
       "   acousticness                            artists  danceability  duration_ms  \\\n",
       "1      0.643000          [\"Screamin' Jay Hawkins\"]         0.852       150200   \n",
       "8      0.996000               ['Francisco Canaro']         0.469       146840   \n",
       "5      0.996000  ['Mamie Smith & Her Jazz Hounds']         0.424       198627   \n",
       "7      0.996000  ['Mamie Smith & Her Jazz Hounds']         0.474       186173   \n",
       "0      0.991000                    ['Mamie Smith']         0.598       168333   \n",
       "2      0.993000                    ['Mamie Smith']         0.647       163827   \n",
       "6      0.992000                    ['Mamie Smith']         0.782       195200   \n",
       "9      0.006820                         ['Meetya']         0.571       476304   \n",
       "4      0.295000                           ['Mixe']         0.704       165224   \n",
       "3      0.000173                ['Oscar Velazquez']         0.730       422087   \n",
       "\n",
       "   energy  explicit                      id  instrumentalness  key  liveness  \\\n",
       "1  0.5170         0  0hbkKFIJm7Z05H8Zl9w30f          0.026400    5    0.0809   \n",
       "8  0.2380         0  02i59gYdjlhBmbbWhf8YuK          0.960000    8    0.1490   \n",
       "5  0.2450         0  3HnrHGLE9u2MjHtdobfWl9          0.799000    5    0.2350   \n",
       "7  0.2390         0  02FzJbHtqElixxCmrpSCUa          0.186000    9    0.1950   \n",
       "0  0.2240         0  0cS0A1fUEUd1EW3FcF8AEI          0.000522    5    0.3790   \n",
       "2  0.1860         0  11m7laMUgmOKqI3oYzuhne          0.000018    0    0.5190   \n",
       "6  0.0573         0  5DlCyqLyX2AOVDTjjkDZ8x          0.000002    5    0.1760   \n",
       "9  0.7530         0  06NUxS2XL3efRh0bloxkHm          0.873000    8    0.0920   \n",
       "4  0.7070         1  2hJjbsLCytGsnAHfdsLejp          0.000246   10    0.4020   \n",
       "3  0.7980         0  19Lc5SfJJ5O1oaxY0fpwfh          0.801000    2    0.1280   \n",
       "\n",
       "   loudness  mode                                               name  \\\n",
       "1    -7.261     0                               I Put A Spell On You   \n",
       "8   -18.717     1                       La Chacarera - Remasterizado   \n",
       "5   -11.470     1                        Crazy Blues - 78rpm Version   \n",
       "7    -9.712     1                                     Arkansas Blues   \n",
       "0   -12.628     0                           Keep A Song In Your Soul   \n",
       "2   -12.098     1                                       Golfing Papa   \n",
       "6   -12.453     1                       Don't You Advertise Your Man   \n",
       "9    -6.943     1                       Broken Puppet - Original Mix   \n",
       "4    -6.036     0                                          Xuniverxe   \n",
       "3    -7.311     1  True House Music - Xavier Santos & Carlos Gomi...   \n",
       "\n",
       "   popularity release_date  speechiness    tempo  valence  year  \n",
       "1           7   1920-01-05       0.0534   86.889   0.9500  1920  \n",
       "8           0   1920-07-08       0.0741  130.060   0.6210  1920  \n",
       "5           9         1920       0.0397  103.870   0.4770  1920  \n",
       "7           0         1920       0.0289   78.784   0.3660  1920  \n",
       "0          12         1920       0.0936  149.976   0.6340  1920  \n",
       "2           4         1920       0.1740   97.600   0.6890  1920  \n",
       "6           5         1920       0.0592   85.652   0.4870  1920  \n",
       "9           0   1920-01-01       0.0446  126.993   0.1190  1920  \n",
       "4           2   1920-10-01       0.0768  122.076   0.2990  1920  \n",
       "3          17   1920-01-01       0.0425  127.997   0.0422  1920  "
      ]
     },
     "execution_count": 74,
     "metadata": {},
     "output_type": "execute_result"
    }
   ],
   "source": [
    "df"
   ]
  },
  {
   "cell_type": "markdown",
   "id": "little-standard",
   "metadata": {},
   "source": [
    "# Artistas\n",
    "A continuación se muestra un listado de los primeros 10 artistas en orden alfabético."
   ]
  },
  {
   "cell_type": "code",
   "execution_count": 75,
   "id": "olympic-motivation",
   "metadata": {},
   "outputs": [
    {
     "data": {
      "text/plain": [
       "1            [\"Screamin' Jay Hawkins\"]\n",
       "8                 ['Francisco Canaro']\n",
       "5    ['Mamie Smith & Her Jazz Hounds']\n",
       "7    ['Mamie Smith & Her Jazz Hounds']\n",
       "0                      ['Mamie Smith']\n",
       "2                      ['Mamie Smith']\n",
       "6                      ['Mamie Smith']\n",
       "9                           ['Meetya']\n",
       "4                             ['Mixe']\n",
       "3                  ['Oscar Velazquez']\n",
       "Name: artists, dtype: object"
      ]
     },
     "execution_count": 75,
     "metadata": {},
     "output_type": "execute_result"
    }
   ],
   "source": [
    "df['artists']"
   ]
  },
  {
   "cell_type": "code",
   "execution_count": 76,
   "id": "dependent-dylan",
   "metadata": {},
   "outputs": [],
   "source": [
    "relation = df[['artists','duration_ms','energy', 'loudness']]"
   ]
  },
  {
   "cell_type": "markdown",
   "id": "invisible-soviet",
   "metadata": {},
   "source": [
    "# Relación\n",
    "Loas datos que se me hicieron convenientes a analizar son la duración, energía y volumen. Para ver el desempeño del artista y observar si a mayor duración en el escenario la energía decrementa, y sí el volumen se mantiene o no."
   ]
  },
  {
   "cell_type": "code",
   "execution_count": 77,
   "id": "hollywood-nylon",
   "metadata": {},
   "outputs": [
    {
     "data": {
      "text/html": [
       "<div>\n",
       "<style scoped>\n",
       "    .dataframe tbody tr th:only-of-type {\n",
       "        vertical-align: middle;\n",
       "    }\n",
       "\n",
       "    .dataframe tbody tr th {\n",
       "        vertical-align: top;\n",
       "    }\n",
       "\n",
       "    .dataframe thead th {\n",
       "        text-align: right;\n",
       "    }\n",
       "</style>\n",
       "<table border=\"1\" class=\"dataframe\">\n",
       "  <thead>\n",
       "    <tr style=\"text-align: right;\">\n",
       "      <th></th>\n",
       "      <th>artists</th>\n",
       "      <th>duration_ms</th>\n",
       "      <th>energy</th>\n",
       "      <th>loudness</th>\n",
       "    </tr>\n",
       "  </thead>\n",
       "  <tbody>\n",
       "    <tr>\n",
       "      <th>1</th>\n",
       "      <td>[\"Screamin' Jay Hawkins\"]</td>\n",
       "      <td>150200</td>\n",
       "      <td>0.5170</td>\n",
       "      <td>-7.261</td>\n",
       "    </tr>\n",
       "    <tr>\n",
       "      <th>8</th>\n",
       "      <td>['Francisco Canaro']</td>\n",
       "      <td>146840</td>\n",
       "      <td>0.2380</td>\n",
       "      <td>-18.717</td>\n",
       "    </tr>\n",
       "    <tr>\n",
       "      <th>5</th>\n",
       "      <td>['Mamie Smith &amp; Her Jazz Hounds']</td>\n",
       "      <td>198627</td>\n",
       "      <td>0.2450</td>\n",
       "      <td>-11.470</td>\n",
       "    </tr>\n",
       "    <tr>\n",
       "      <th>7</th>\n",
       "      <td>['Mamie Smith &amp; Her Jazz Hounds']</td>\n",
       "      <td>186173</td>\n",
       "      <td>0.2390</td>\n",
       "      <td>-9.712</td>\n",
       "    </tr>\n",
       "    <tr>\n",
       "      <th>0</th>\n",
       "      <td>['Mamie Smith']</td>\n",
       "      <td>168333</td>\n",
       "      <td>0.2240</td>\n",
       "      <td>-12.628</td>\n",
       "    </tr>\n",
       "    <tr>\n",
       "      <th>2</th>\n",
       "      <td>['Mamie Smith']</td>\n",
       "      <td>163827</td>\n",
       "      <td>0.1860</td>\n",
       "      <td>-12.098</td>\n",
       "    </tr>\n",
       "    <tr>\n",
       "      <th>6</th>\n",
       "      <td>['Mamie Smith']</td>\n",
       "      <td>195200</td>\n",
       "      <td>0.0573</td>\n",
       "      <td>-12.453</td>\n",
       "    </tr>\n",
       "    <tr>\n",
       "      <th>9</th>\n",
       "      <td>['Meetya']</td>\n",
       "      <td>476304</td>\n",
       "      <td>0.7530</td>\n",
       "      <td>-6.943</td>\n",
       "    </tr>\n",
       "    <tr>\n",
       "      <th>4</th>\n",
       "      <td>['Mixe']</td>\n",
       "      <td>165224</td>\n",
       "      <td>0.7070</td>\n",
       "      <td>-6.036</td>\n",
       "    </tr>\n",
       "    <tr>\n",
       "      <th>3</th>\n",
       "      <td>['Oscar Velazquez']</td>\n",
       "      <td>422087</td>\n",
       "      <td>0.7980</td>\n",
       "      <td>-7.311</td>\n",
       "    </tr>\n",
       "  </tbody>\n",
       "</table>\n",
       "</div>"
      ],
      "text/plain": [
       "                             artists  duration_ms  energy  loudness\n",
       "1          [\"Screamin' Jay Hawkins\"]       150200  0.5170    -7.261\n",
       "8               ['Francisco Canaro']       146840  0.2380   -18.717\n",
       "5  ['Mamie Smith & Her Jazz Hounds']       198627  0.2450   -11.470\n",
       "7  ['Mamie Smith & Her Jazz Hounds']       186173  0.2390    -9.712\n",
       "0                    ['Mamie Smith']       168333  0.2240   -12.628\n",
       "2                    ['Mamie Smith']       163827  0.1860   -12.098\n",
       "6                    ['Mamie Smith']       195200  0.0573   -12.453\n",
       "9                         ['Meetya']       476304  0.7530    -6.943\n",
       "4                           ['Mixe']       165224  0.7070    -6.036\n",
       "3                ['Oscar Velazquez']       422087  0.7980    -7.311"
      ]
     },
     "execution_count": 77,
     "metadata": {},
     "output_type": "execute_result"
    }
   ],
   "source": [
    "relation.head(10)"
   ]
  },
  {
   "cell_type": "markdown",
   "id": "approved-stuart",
   "metadata": {},
   "source": [
    "# Medidas de tendencia\n",
    "De los datos anteriores relacionados, hemos sacado sus medidas de tendencia, por lo que obtuvimos:\n",
    "\n",
    "De duración.\n",
    "Media: 227281.50000\t\n",
    "Varianza: 1.414073e+10\n",
    "Valor máximo:476304.00000\n",
    "Valor mínimo:146840.00000\n",
    "\n",
    "De energía.\n",
    "Media: 0.396430\n",
    "Varianza: 7.346987e-02\n",
    "Valor máximo: 0.798000\n",
    "Valor mínimo: 0.057300\n",
    "\n",
    "De volumen.\n",
    "Media: -10.462900\n",
    "Varianza: 1.480042e+01\n",
    "Valor máximo: -6.036000\n",
    "Valor mínimo: -18.717000\n",
    "\n"
   ]
  },
  {
   "cell_type": "code",
   "execution_count": 78,
   "id": "marked-bidding",
   "metadata": {},
   "outputs": [
    {
     "data": {
      "text/html": [
       "<div>\n",
       "<style scoped>\n",
       "    .dataframe tbody tr th:only-of-type {\n",
       "        vertical-align: middle;\n",
       "    }\n",
       "\n",
       "    .dataframe tbody tr th {\n",
       "        vertical-align: top;\n",
       "    }\n",
       "\n",
       "    .dataframe thead th {\n",
       "        text-align: right;\n",
       "    }\n",
       "</style>\n",
       "<table border=\"1\" class=\"dataframe\">\n",
       "  <thead>\n",
       "    <tr style=\"text-align: right;\">\n",
       "      <th></th>\n",
       "      <th>duration_ms</th>\n",
       "      <th>energy</th>\n",
       "      <th>loudness</th>\n",
       "    </tr>\n",
       "  </thead>\n",
       "  <tbody>\n",
       "    <tr>\n",
       "      <th>count</th>\n",
       "      <td>10.00000</td>\n",
       "      <td>10.000000</td>\n",
       "      <td>10.000000</td>\n",
       "    </tr>\n",
       "    <tr>\n",
       "      <th>mean</th>\n",
       "      <td>227281.50000</td>\n",
       "      <td>0.396430</td>\n",
       "      <td>-10.462900</td>\n",
       "    </tr>\n",
       "    <tr>\n",
       "      <th>std</th>\n",
       "      <td>118914.78051</td>\n",
       "      <td>0.271053</td>\n",
       "      <td>3.847131</td>\n",
       "    </tr>\n",
       "    <tr>\n",
       "      <th>min</th>\n",
       "      <td>146840.00000</td>\n",
       "      <td>0.057300</td>\n",
       "      <td>-18.717000</td>\n",
       "    </tr>\n",
       "    <tr>\n",
       "      <th>25%</th>\n",
       "      <td>164176.25000</td>\n",
       "      <td>0.227500</td>\n",
       "      <td>-12.364250</td>\n",
       "    </tr>\n",
       "    <tr>\n",
       "      <th>50%</th>\n",
       "      <td>177253.00000</td>\n",
       "      <td>0.242000</td>\n",
       "      <td>-10.591000</td>\n",
       "    </tr>\n",
       "    <tr>\n",
       "      <th>75%</th>\n",
       "      <td>197770.25000</td>\n",
       "      <td>0.659500</td>\n",
       "      <td>-7.273500</td>\n",
       "    </tr>\n",
       "    <tr>\n",
       "      <th>max</th>\n",
       "      <td>476304.00000</td>\n",
       "      <td>0.798000</td>\n",
       "      <td>-6.036000</td>\n",
       "    </tr>\n",
       "  </tbody>\n",
       "</table>\n",
       "</div>"
      ],
      "text/plain": [
       "        duration_ms     energy   loudness\n",
       "count      10.00000  10.000000  10.000000\n",
       "mean   227281.50000   0.396430 -10.462900\n",
       "std    118914.78051   0.271053   3.847131\n",
       "min    146840.00000   0.057300 -18.717000\n",
       "25%    164176.25000   0.227500 -12.364250\n",
       "50%    177253.00000   0.242000 -10.591000\n",
       "75%    197770.25000   0.659500  -7.273500\n",
       "max    476304.00000   0.798000  -6.036000"
      ]
     },
     "execution_count": 78,
     "metadata": {},
     "output_type": "execute_result"
    }
   ],
   "source": [
    "relation.describe()"
   ]
  },
  {
   "cell_type": "code",
   "execution_count": 79,
   "id": "reflected-absolute",
   "metadata": {},
   "outputs": [],
   "source": [
    "varianza=df.var()"
   ]
  },
  {
   "cell_type": "code",
   "execution_count": 80,
   "id": "passing-conditions",
   "metadata": {},
   "outputs": [
    {
     "name": "stdout",
     "output_type": "stream",
     "text": [
      "acousticness        1.839271e-01\n",
      "danceability        2.056788e-02\n",
      "duration_ms         1.414073e+10\n",
      "energy              7.346987e-02\n",
      "explicit            1.000000e-01\n",
      "instrumentalness    1.855062e-01\n",
      "key                 9.788889e+00\n",
      "liveness            2.193326e-02\n",
      "loudness            1.480042e+01\n",
      "mode                2.333333e-01\n",
      "popularity          3.271111e+01\n",
      "speechiness         1.757722e-03\n",
      "tempo               5.602102e+02\n",
      "valence             7.496021e-02\n",
      "year                0.000000e+00\n",
      "dtype: float64\n"
     ]
    }
   ],
   "source": [
    "print(varianza)"
   ]
  },
  {
   "cell_type": "markdown",
   "id": "southeast-memory",
   "metadata": {},
   "source": [
    "# Relación lineal positiva\n",
    "Considero que el \"tiempo\" y \"la energía/el volumen\" tienen una **\"progresión lineal negativa\"**, porque es lógico pensar que mientras más tiempo pasen en el escenario, el cansancio es un factor para que bajen los ánimos y con ello el volumen y la energía.\n",
    "\n",
    "Sin embargo, en la relación de la \"energía\" con el \"volumen\", sí tendría una **\"progresión lineal positiva\"**, ya que ambos valores tienen a incrementar a la par, mientras más volumen el artista imprima, requiere de más energía.\n",
    "\n",
    "*Cuando ambas variables aumentan o disminuyen simultáneamente a un ritmo constante, existe una relación lineal positiva. *Cuando una variable aumenta mientras la otra variable disminuye, existe una relación lineal negativa."
   ]
  },
  {
   "cell_type": "code",
   "execution_count": 92,
   "id": "bridal-soundtrack",
   "metadata": {},
   "outputs": [
    {
     "data": {
      "text/plain": [
       "<seaborn.axisgrid.PairGrid at 0x7fea973e1e48>"
      ]
     },
     "execution_count": 92,
     "metadata": {},
     "output_type": "execute_result"
    },
    {
     "data": {
      "image/png": "[encoded data removed]",
      "text/plain": [
       "<Figure size 540x540 with 12 Axes>"
      ]
     },
     "metadata": {
      "needs_background": "light"
     },
     "output_type": "display_data"
    }
   ],
   "source": [
    "sns.pairplot(relation, kind='reg')"
   ]
  },
  {
   "cell_type": "code",
   "execution_count": 81,
   "id": "hungry-twelve",
   "metadata": {},
   "outputs": [
    {
     "data": {
      "text/plain": [
       "<matplotlib.collections.PathCollection at 0x7fea8f8c3ba8>"
      ]
     },
     "execution_count": 81,
     "metadata": {},
     "output_type": "execute_result"
    },
    {
     "data": {
      "image/png": "[encoded data removed]",
      "text/plain": [
       "<Figure size 432x288 with 1 Axes>"
      ]
     },
     "metadata": {
      "needs_background": "light"
     },
     "output_type": "display_data"
    }
   ],
   "source": [
    "plt.scatter(df[\"duration_ms\"],df[\"energy\"])\n"
   ]
  },
  {
   "cell_type": "code",
   "execution_count": 82,
   "id": "fifty-slope",
   "metadata": {},
   "outputs": [
    {
     "data": {
      "text/plain": [
       "<matplotlib.collections.PathCollection at 0x7fea95cb1358>"
      ]
     },
     "execution_count": 82,
     "metadata": {},
     "output_type": "execute_result"
    },
    {
     "data": {
      "image/png": "[encoded data removed]",
      "text/plain": [
       "<Figure size 432x288 with 1 Axes>"
      ]
     },
     "metadata": {
      "needs_background": "light"
     },
     "output_type": "display_data"
    }
   ],
   "source": [
    "plt.scatter(df[\"duration_ms\"],df[\"loudness\"])"
   ]
  },
  {
   "cell_type": "code",
   "execution_count": 83,
   "id": "liquid-identity",
   "metadata": {},
   "outputs": [
    {
     "data": {
      "text/plain": [
       "<matplotlib.collections.PathCollection at 0x7fea901341d0>"
      ]
     },
     "execution_count": 83,
     "metadata": {},
     "output_type": "execute_result"
    },
    {
     "data": {
      "image/png": "[encoded data removed]",
      "text/plain": [
       "<Figure size 432x288 with 1 Axes>"
      ]
     },
     "metadata": {
      "needs_background": "light"
     },
     "output_type": "display_data"
    }
   ],
   "source": [
    "plt.scatter(df[\"loudness\"],df[\"energy\"])"
   ]
  },
  {
   "cell_type": "code",
   "execution_count": 84,
   "id": "higher-marshall",
   "metadata": {},
   "outputs": [],
   "source": [
    "def recta(x):\n",
    "    pendiente = df.cov()[\"duration_ms\"][\"energy\"]/df[\"duration_ms\"].var()\n",
    "    return pendiente*(x-df[\"duration_ms\"].mean())+df[\"energy\"].mean()"
   ]
  },
  {
   "cell_type": "code",
   "execution_count": 87,
   "id": "designed-secretary",
   "metadata": {},
   "outputs": [
    {
     "data": {
      "image/png": "[encoded data removed]",
      "text/plain": [
       "<Figure size 432x288 with 1 Axes>"
      ]
     },
     "metadata": {
      "needs_background": "light"
     },
     "output_type": "display_data"
    }
   ],
   "source": [
    "line = [recta(x) for x in np.arange(3000)]\n",
    "plt.scatter(df[\"duration_ms\"],df[\"energy\"])\n",
    "plt.plot(line)\n",
    "plt.show()\n"
   ]
  },
  {
   "cell_type": "code",
   "execution_count": 88,
   "id": "precious-rubber",
   "metadata": {},
   "outputs": [],
   "source": [
    "def recta(x):\n",
    "    pendiente = df.cov()[\"duration_ms\"][\"loudness\"]/df[\"duration_ms\"].var()\n",
    "    return pendiente*(x-df[\"duration_ms\"].mean())+df[\"loudness\"].mean()"
   ]
  },
  {
   "cell_type": "code",
   "execution_count": 89,
   "id": "silent-momentum",
   "metadata": {},
   "outputs": [
    {
     "data": {
      "image/png": "[encoded data removed]",
      "text/plain": [
       "<Figure size 432x288 with 1 Axes>"
      ]
     },
     "metadata": {
      "needs_background": "light"
     },
     "output_type": "display_data"
    }
   ],
   "source": [
    "line = [recta(x) for x in np.arange(3000)]\n",
    "plt.scatter(df[\"duration_ms\"],df[\"loudness\"])\n",
    "plt.plot(line)\n",
    "plt.show()"
   ]
  },
  {
   "cell_type": "code",
   "execution_count": null,
   "id": "soviet-boulder",
   "metadata": {},
   "outputs": [],
   "source": []
  }
 ],
 "metadata": {
  "kernelspec": {
   "display_name": "conda_python3",
   "language": "python",
   "name": "conda_python3"
  },
  "language_info": {
   "codemirror_mode": {
    "name": "ipython",
    "version": 3
   },
   "file_extension": ".py",
   "mimetype": "text/x-python",
   "name": "python",
   "nbconvert_exporter": "python",
   "pygments_lexer": "ipython3",
   "version": "3.6.10"
  }
 },
 "nbformat": 4,
 "nbformat_minor": 5
}
